{
 "cells": [
  {
   "cell_type": "code",
   "execution_count": 5,
   "id": "9d42cc5b",
   "metadata": {},
   "outputs": [],
   "source": [
    "# Code to blur the detected face\n",
    "\n",
    "import cv2\n",
    "\n",
    "# Load the pre-trained face detection Haar Cascade classifier\n",
    "face_cascade = cv2.CascadeClassifier(cv2.data.haarcascades + \"haarcascade_frontalface_default.xml\")\n",
    "\n",
    "# Open the webcam\n",
    "cap = cv2.VideoCapture(0)\n",
    "\n",
    "while True:\n",
    "    ret, frame = cap.read()\n",
    "    if not ret:\n",
    "        break\n",
    "\n",
    "    # Convert frame to grayscale for face detection\n",
    "    gray_frame = cv2.cvtColor(frame, cv2.COLOR_BGR2GRAY)\n",
    "\n",
    "    # Detect faces in the frame\n",
    "    faces = face_cascade.detectMultiScale(gray_frame, scaleFactor=1.5, minNeighbors=5, minSize=(40, 40))\n",
    "\n",
    "    for (x, y, w, h) in faces:\n",
    "        # Extract the region of interest (ROI) for the face\n",
    "        face_roi = frame[y:y+h, x:x+w]\n",
    "\n",
    "        # Apply Gaussian blur to the face ROI\n",
    "        blurred_face = cv2.GaussianBlur(face_roi, (99, 99), 20)\n",
    "\n",
    "        # Place the blurred face back into the original frame\n",
    "        frame[y:y+h, x:x+w] = blurred_face\n",
    "\n",
    "    # Display the result\n",
    "    cv2.imshow('Blurred Faces', frame)\n",
    "\n",
    "    # Exit the loop when the ESC key is pressed\n",
    "    if cv2.waitKey(1) == 27:\n",
    "        break\n",
    "\n",
    "# Release the video capture and close the window\n",
    "\n",
    "cv2.destroyAllWindows()\n",
    "cap.release()"
   ]
  },
  {
   "cell_type": "code",
   "execution_count": null,
   "id": "3eafd268",
   "metadata": {},
   "outputs": [],
   "source": [
    "\n"
   ]
  },
  {
   "cell_type": "code",
   "execution_count": null,
   "id": "2edd67d1",
   "metadata": {},
   "outputs": [],
   "source": []
  }
 ],
 "metadata": {
  "kernelspec": {
   "display_name": "Python 3 (ipykernel)",
   "language": "python",
   "name": "python3"
  },
  "language_info": {
   "codemirror_mode": {
    "name": "ipython",
    "version": 3
   },
   "file_extension": ".py",
   "mimetype": "text/x-python",
   "name": "python",
   "nbconvert_exporter": "python",
   "pygments_lexer": "ipython3",
   "version": "3.9.7"
  }
 },
 "nbformat": 4,
 "nbformat_minor": 5
}
